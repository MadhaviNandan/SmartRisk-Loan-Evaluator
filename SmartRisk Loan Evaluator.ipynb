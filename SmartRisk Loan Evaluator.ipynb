{
 "cells": [
  {
   "cell_type": "code",
   "execution_count": 1,
   "metadata": {},
   "outputs": [
    {
     "data": {
      "text/plain": [
       "'C:\\\\Users\\\\dharani\\\\Downloads'"
      ]
     },
     "execution_count": 1,
     "metadata": {},
     "output_type": "execute_result"
    }
   ],
   "source": [
    "import os\n",
    "os.getcwd()"
   ]
  },
  {
   "cell_type": "code",
   "execution_count": 2,
   "metadata": {},
   "outputs": [],
   "source": [
    "import numpy as np\n",
    "import pandas as pd\n",
    "import matplotlib.pyplot as plt\n",
    "import seaborn as sns\n",
    "%matplotlib inline\n",
    "import warnings\n",
    "warnings.filterwarnings('ignore')"
   ]
  },
  {
   "cell_type": "code",
   "execution_count": 3,
   "metadata": {},
   "outputs": [],
   "source": [
    "df=pd.read_csv('loan.csv')"
   ]
  },
  {
   "cell_type": "code",
   "execution_count": 4,
   "metadata": {},
   "outputs": [
    {
     "data": {
      "text/plain": [
       "Index(['id', 'member_id', 'loan_amnt', 'funded_amnt', 'funded_amnt_inv',\n",
       "       'term', 'int_rate', 'installment', 'grade', 'sub_grade', 'emp_title',\n",
       "       'emp_length', 'home_ownership', 'annual_inc', 'verification_status',\n",
       "       'issue_d', 'loan_status', 'pymnt_plan', 'url', 'desc', 'purpose',\n",
       "       'title', 'zip_code', 'addr_state', 'dti', 'delinq_2yrs',\n",
       "       'earliest_cr_line', 'inq_last_6mths', 'mths_since_last_delinq',\n",
       "       'mths_since_last_record', 'open_acc', 'pub_rec', 'revol_bal',\n",
       "       'revol_util', 'total_acc', 'initial_list_status', 'out_prncp',\n",
       "       'out_prncp_inv', 'total_pymnt', 'total_pymnt_inv', 'total_rec_prncp',\n",
       "       'total_rec_int', 'total_rec_late_fee', 'recoveries',\n",
       "       'collection_recovery_fee', 'last_pymnt_d', 'last_pymnt_amnt',\n",
       "       'next_pymnt_d', 'last_credit_pull_d', 'collections_12_mths_ex_med',\n",
       "       'mths_since_last_major_derog', 'policy_code', 'application_type',\n",
       "       'annual_inc_joint', 'dti_joint', 'verification_status_joint',\n",
       "       'acc_now_delinq', 'tot_coll_amt', 'tot_cur_bal', 'open_acc_6m',\n",
       "       'open_il_6m', 'open_il_12m', 'open_il_24m', 'mths_since_rcnt_il',\n",
       "       'total_bal_il', 'il_util', 'open_rv_12m', 'open_rv_24m', 'max_bal_bc',\n",
       "       'all_util', 'total_rev_hi_lim', 'inq_fi', 'total_cu_tl',\n",
       "       'inq_last_12m'],\n",
       "      dtype='object')"
      ]
     },
     "execution_count": 4,
     "metadata": {},
     "output_type": "execute_result"
    }
   ],
   "source": [
    "df.columns"
   ]
  },
  {
   "cell_type": "code",
   "execution_count": 5,
   "metadata": {},
   "outputs": [
    {
     "name": "stdout",
     "output_type": "stream",
     "text": [
      "<class 'pandas.core.frame.DataFrame'>\n",
      "RangeIndex: 887379 entries, 0 to 887378\n",
      "Data columns (total 74 columns):\n",
      " #   Column                       Non-Null Count   Dtype  \n",
      "---  ------                       --------------   -----  \n",
      " 0   id                           887379 non-null  int64  \n",
      " 1   member_id                    887379 non-null  int64  \n",
      " 2   loan_amnt                    887379 non-null  float64\n",
      " 3   funded_amnt                  887379 non-null  float64\n",
      " 4   funded_amnt_inv              887379 non-null  float64\n",
      " 5   term                         887379 non-null  object \n",
      " 6   int_rate                     887379 non-null  float64\n",
      " 7   installment                  887379 non-null  float64\n",
      " 8   grade                        887379 non-null  object \n",
      " 9   sub_grade                    887379 non-null  object \n",
      " 10  emp_title                    835917 non-null  object \n",
      " 11  emp_length                   842554 non-null  object \n",
      " 12  home_ownership               887379 non-null  object \n",
      " 13  annual_inc                   887375 non-null  float64\n",
      " 14  verification_status          887379 non-null  object \n",
      " 15  issue_d                      887379 non-null  object \n",
      " 16  loan_status                  887379 non-null  object \n",
      " 17  pymnt_plan                   887379 non-null  object \n",
      " 18  url                          887379 non-null  object \n",
      " 19  desc                         126028 non-null  object \n",
      " 20  purpose                      887379 non-null  object \n",
      " 21  title                        887227 non-null  object \n",
      " 22  zip_code                     887379 non-null  object \n",
      " 23  addr_state                   887379 non-null  object \n",
      " 24  dti                          887379 non-null  float64\n",
      " 25  delinq_2yrs                  887350 non-null  float64\n",
      " 26  earliest_cr_line             887350 non-null  object \n",
      " 27  inq_last_6mths               887350 non-null  float64\n",
      " 28  mths_since_last_delinq       433067 non-null  float64\n",
      " 29  mths_since_last_record       137053 non-null  float64\n",
      " 30  open_acc                     887350 non-null  float64\n",
      " 31  pub_rec                      887350 non-null  float64\n",
      " 32  revol_bal                    887379 non-null  float64\n",
      " 33  revol_util                   886877 non-null  float64\n",
      " 34  total_acc                    887350 non-null  float64\n",
      " 35  initial_list_status          887379 non-null  object \n",
      " 36  out_prncp                    887379 non-null  float64\n",
      " 37  out_prncp_inv                887379 non-null  float64\n",
      " 38  total_pymnt                  887379 non-null  float64\n",
      " 39  total_pymnt_inv              887379 non-null  float64\n",
      " 40  total_rec_prncp              887379 non-null  float64\n",
      " 41  total_rec_int                887379 non-null  float64\n",
      " 42  total_rec_late_fee           887379 non-null  float64\n",
      " 43  recoveries                   887379 non-null  float64\n",
      " 44  collection_recovery_fee      887379 non-null  float64\n",
      " 45  last_pymnt_d                 869720 non-null  object \n",
      " 46  last_pymnt_amnt              887379 non-null  float64\n",
      " 47  next_pymnt_d                 634408 non-null  object \n",
      " 48  last_credit_pull_d           887326 non-null  object \n",
      " 49  collections_12_mths_ex_med   887234 non-null  float64\n",
      " 50  mths_since_last_major_derog  221703 non-null  float64\n",
      " 51  policy_code                  887379 non-null  float64\n",
      " 52  application_type             887379 non-null  object \n",
      " 53  annual_inc_joint             511 non-null     float64\n",
      " 54  dti_joint                    509 non-null     float64\n",
      " 55  verification_status_joint    511 non-null     object \n",
      " 56  acc_now_delinq               887350 non-null  float64\n",
      " 57  tot_coll_amt                 817103 non-null  float64\n",
      " 58  tot_cur_bal                  817103 non-null  float64\n",
      " 59  open_acc_6m                  21372 non-null   float64\n",
      " 60  open_il_6m                   21372 non-null   float64\n",
      " 61  open_il_12m                  21372 non-null   float64\n",
      " 62  open_il_24m                  21372 non-null   float64\n",
      " 63  mths_since_rcnt_il           20810 non-null   float64\n",
      " 64  total_bal_il                 21372 non-null   float64\n",
      " 65  il_util                      18617 non-null   float64\n",
      " 66  open_rv_12m                  21372 non-null   float64\n",
      " 67  open_rv_24m                  21372 non-null   float64\n",
      " 68  max_bal_bc                   21372 non-null   float64\n",
      " 69  all_util                     21372 non-null   float64\n",
      " 70  total_rev_hi_lim             817103 non-null  float64\n",
      " 71  inq_fi                       21372 non-null   float64\n",
      " 72  total_cu_tl                  21372 non-null   float64\n",
      " 73  inq_last_12m                 21372 non-null   float64\n",
      "dtypes: float64(49), int64(2), object(23)\n",
      "memory usage: 501.0+ MB\n"
     ]
    }
   ],
   "source": [
    "df.info()"
   ]
  },
  {
   "cell_type": "markdown",
   "metadata": {},
   "source": [
    "# DATA CLEANING"
   ]
  },
  {
   "cell_type": "code",
   "execution_count": 6,
   "metadata": {},
   "outputs": [],
   "source": [
    "#Removing Columns with unique values\n",
    "df.drop(['id', 'member_id'],inplace=True,axis=1)"
   ]
  },
  {
   "cell_type": "code",
   "execution_count": 7,
   "metadata": {},
   "outputs": [],
   "source": [
    "#Consider Columns having Object datatype\n",
    "#'term','grade','sub_grade','emp_title','emp_length','home_ownership','verification_status',\n",
    "#'issue_d','pymnt_plan','url','desc','purpose','title','zip_code','addr_state','earliest_cr_line','initial_list_status',\n",
    "#'last_pymnt_d' ,'next_pymnt_d', 'last_credit_pull_d', 'application_type','verification_status_joint','loan_status'"
   ]
  },
  {
   "cell_type": "code",
   "execution_count": 8,
   "metadata": {},
   "outputs": [],
   "source": [
    "df.drop(['grade','sub_grade'],axis=1,inplace=True) #Given by Platform"
   ]
  },
  {
   "cell_type": "code",
   "execution_count": 9,
   "metadata": {},
   "outputs": [],
   "source": [
    "df.drop(['zip_code','addr_state'],axis=1,inplace=True) #Geographical information"
   ]
  },
  {
   "cell_type": "code",
   "execution_count": 10,
   "metadata": {},
   "outputs": [],
   "source": [
    "df.drop(['issue_d','initial_list_status','last_pymnt_d' ,'next_pymnt_d', 'last_credit_pull_d','earliest_cr_line']\n",
    "       ,axis=1,inplace=True) #values genreated once loan is issued"
   ]
  },
  {
   "cell_type": "code",
   "execution_count": 11,
   "metadata": {},
   "outputs": [],
   "source": [
    "df.drop(['pymnt_plan','url'],axis=1,inplace=True) #irrelevant data"
   ]
  },
  {
   "cell_type": "code",
   "execution_count": 12,
   "metadata": {},
   "outputs": [],
   "source": [
    "df.drop(['verification_status_joint'],inplace=True,axis=1) #morenull values"
   ]
  },
  {
   "cell_type": "code",
   "execution_count": 13,
   "metadata": {},
   "outputs": [
    {
     "name": "stdout",
     "output_type": "stream",
     "text": [
      "emp_title 299271\n",
      "emp_length 11\n",
      "home_ownership 6\n",
      "verification_status 3\n",
      "term 2\n",
      "desc 124469\n",
      "purpose 14\n",
      "title 63144\n",
      "application_type 2\n",
      "loan_status 10\n"
     ]
    }
   ],
   "source": [
    "print(\"emp_title\",df['emp_title'].nunique())\n",
    "print(\"emp_length\",df['emp_length'].nunique())\n",
    "print(\"home_ownership\",df['home_ownership'].nunique())\n",
    "print(\"verification_status\",df['verification_status'].nunique())\n",
    "print(\"term\",df['term'].nunique())\n",
    "print(\"desc\",df['desc'].nunique())\n",
    "print(\"purpose\",df['purpose'].nunique())\n",
    "print(\"title\",df['title'].nunique())\n",
    "print(\"application_type\",df['application_type'].nunique())\n",
    "print(\"loan_status\",df['loan_status'].nunique())"
   ]
  },
  {
   "cell_type": "code",
   "execution_count": 14,
   "metadata": {},
   "outputs": [],
   "source": [
    "df.drop(['emp_title','desc','title'],inplace=True,axis=1) #More Unique values"
   ]
  },
  {
   "cell_type": "code",
   "execution_count": 15,
   "metadata": {},
   "outputs": [
    {
     "name": "stdout",
     "output_type": "stream",
     "text": [
      "emp_length ['10+ years' '< 1 year' '1 year' '3 years' '8 years' '9 years' '4 years'\n",
      " '5 years' '6 years' '2 years' '7 years' nan]\n",
      "home_ownership ['RENT' 'OWN' 'MORTGAGE' 'OTHER' 'NONE' 'ANY']\n",
      "verification_status ['Verified' 'Source Verified' 'Not Verified']\n",
      "term [' 36 months' ' 60 months']\n",
      "purpose ['credit_card' 'car' 'small_business' 'other' 'wedding'\n",
      " 'debt_consolidation' 'home_improvement' 'major_purchase' 'medical'\n",
      " 'moving' 'vacation' 'house' 'renewable_energy' 'educational']\n",
      "application_type ['INDIVIDUAL' 'JOINT']\n",
      "loan_status ['Fully Paid' 'Charged Off' 'Current' 'Default' 'Late (31-120 days)'\n",
      " 'In Grace Period' 'Late (16-30 days)'\n",
      " 'Does not meet the credit policy. Status:Fully Paid'\n",
      " 'Does not meet the credit policy. Status:Charged Off' 'Issued']\n"
     ]
    }
   ],
   "source": [
    "print(\"emp_length\",df['emp_length'].unique())\n",
    "print(\"home_ownership\",df['home_ownership'].unique())\n",
    "print(\"verification_status\",df['verification_status'].unique())\n",
    "print(\"term\",df['term'].unique())\n",
    "print(\"purpose\",df['purpose'].unique())\n",
    "print(\"application_type\",df['application_type'].unique())\n",
    "print(\"loan_status\",df['loan_status'].unique())"
   ]
  },
  {
   "cell_type": "code",
   "execution_count": 16,
   "metadata": {},
   "outputs": [],
   "source": [
    "df['emp_length'].replace(['< 1 year','1 year','2 years','3 years','4 years','5 years','6 years','7 years','8 years',\n",
    "                          '9 years','10+ years'],[0,1,2,3,4,5,6,7,8,9,10],inplace=True)\n",
    "df['home_ownership'].replace(['OWN','MORTGAGE','RENT','OTHER','NONE','ANY'],[0,1,2,3,4,5],inplace=True)\n",
    "df['verification_status'].replace(['Source Verified', 'Not Verified', 'Verified'],[0,1,2],inplace=True)\n",
    "df['purpose'].replace(['debt_consolidation', 'home_improvement', 'credit_card', 'other',\n",
    "       'major_purchase', 'small_business', 'vacation', 'car', 'moving',\n",
    "       'medical', 'wedding', 'renewable_energy', 'house', 'educational'],[0,1,2,3,4,5,6,7,8,9,10,11,12,13],inplace=True)\n",
    "df['application_type'].replace(['INDIVIDUAL', 'JOINT'],[0,1],inplace=True)\n",
    "df['term']=df['term'].apply(lambda x:x.split(' ')[1])"
   ]
  },
  {
   "cell_type": "code",
   "execution_count": 17,
   "metadata": {},
   "outputs": [],
   "source": [
    "#consider numeric data\n",
    "#loan_amnt,funded_amnt,funded_amnt_inv,int_rate,installment,annual_inc,dti,delinq_2yrs,\n",
    "#inq_last_6mths,mths_since_last_delinq,mths_since_last_record ,open_acc,pub_rec,revol_bal,\n",
    "#revol_util,total_acc,out_prncp,out_prncp_inv,total_pymnt,total_pymnt_inv,total_rec_prncp,total_rec_int,\n",
    "#total_rec_late_fee,recoveries,collection_recovery_fee,last_pymnt_amnt,collections_12_mths_ex_med,\n",
    "#mths_since_last_major_derog,policy_code,annual_inc_joint,dti_joint,acc_now_delinq,tot_coll_amt,tot_cur_bal,                \n",
    "#open_acc_6m,open_il_6m,open_il_12m,open_il_24m ,mths_since_rcnt_il,total_bal_il,il_util,open_rv_12m,\n",
    "#open_rv_24m,max_bal_bc,all_util,total_rev_hi_lim,inq_fi,total_cu_tl,inq_last_12m                   "
   ]
  },
  {
   "cell_type": "code",
   "execution_count": 18,
   "metadata": {},
   "outputs": [],
   "source": [
    "#Removing data obtained after loan issue\n",
    "df.drop(['out_prncp','out_prncp_inv','total_pymnt','total_pymnt_inv','total_rec_prncp','total_rec_int',\n",
    "'total_rec_late_fee','recoveries','collection_recovery_fee','last_pymnt_amnt','collections_12_mths_ex_med',\n",
    "'tot_coll_amt','tot_cur_bal'],inplace=True,axis=1)"
   ]
  },
  {
   "cell_type": "code",
   "execution_count": 19,
   "metadata": {},
   "outputs": [],
   "source": [
    "#Removing irrelevant data and relevantdata reapted \n",
    "df.drop(['funded_amnt','inq_last_6mths','mths_since_last_delinq','mths_since_last_record',\n",
    "         'mths_since_last_major_derog','policy_code','annual_inc_joint','dti_joint',\n",
    "        'open_acc_6m','open_il_6m','open_il_12m','open_il_24m','mths_since_rcnt_il','total_bal_il','il_util',\n",
    "         'open_rv_12m','open_rv_24m','max_bal_bc','all_util','total_rev_hi_lim','inq_fi','total_cu_tl','inq_last_12m'],inplace=True,axis=1)"
   ]
  },
  {
   "cell_type": "code",
   "execution_count": 20,
   "metadata": {},
   "outputs": [
    {
     "data": {
      "text/plain": [
       "loan_amnt                  0\n",
       "funded_amnt_inv            0\n",
       "term                       0\n",
       "int_rate                   0\n",
       "installment                0\n",
       "emp_length             44825\n",
       "home_ownership             0\n",
       "annual_inc                 4\n",
       "verification_status        0\n",
       "loan_status                0\n",
       "purpose                    0\n",
       "dti                        0\n",
       "delinq_2yrs               29\n",
       "open_acc                  29\n",
       "pub_rec                   29\n",
       "revol_bal                  0\n",
       "revol_util               502\n",
       "total_acc                 29\n",
       "application_type           0\n",
       "acc_now_delinq            29\n",
       "dtype: int64"
      ]
     },
     "execution_count": 20,
     "metadata": {},
     "output_type": "execute_result"
    }
   ],
   "source": [
    "df.isnull().sum()"
   ]
  },
  {
   "cell_type": "code",
   "execution_count": 21,
   "metadata": {},
   "outputs": [
    {
     "data": {
      "text/html": [
       "<div>\n",
       "<style scoped>\n",
       "    .dataframe tbody tr th:only-of-type {\n",
       "        vertical-align: middle;\n",
       "    }\n",
       "\n",
       "    .dataframe tbody tr th {\n",
       "        vertical-align: top;\n",
       "    }\n",
       "\n",
       "    .dataframe thead th {\n",
       "        text-align: right;\n",
       "    }\n",
       "</style>\n",
       "<table border=\"1\" class=\"dataframe\">\n",
       "  <thead>\n",
       "    <tr style=\"text-align: right;\">\n",
       "      <th></th>\n",
       "      <th>loan_amnt</th>\n",
       "      <th>funded_amnt_inv</th>\n",
       "      <th>term</th>\n",
       "      <th>int_rate</th>\n",
       "      <th>installment</th>\n",
       "      <th>emp_length</th>\n",
       "      <th>home_ownership</th>\n",
       "      <th>annual_inc</th>\n",
       "      <th>verification_status</th>\n",
       "      <th>loan_status</th>\n",
       "      <th>purpose</th>\n",
       "      <th>dti</th>\n",
       "      <th>delinq_2yrs</th>\n",
       "      <th>open_acc</th>\n",
       "      <th>pub_rec</th>\n",
       "      <th>revol_bal</th>\n",
       "      <th>revol_util</th>\n",
       "      <th>total_acc</th>\n",
       "      <th>application_type</th>\n",
       "      <th>acc_now_delinq</th>\n",
       "    </tr>\n",
       "  </thead>\n",
       "  <tbody>\n",
       "    <tr>\n",
       "      <th>0</th>\n",
       "      <td>5000.0</td>\n",
       "      <td>4975.0</td>\n",
       "      <td>36</td>\n",
       "      <td>10.65</td>\n",
       "      <td>162.87</td>\n",
       "      <td>10.0</td>\n",
       "      <td>2</td>\n",
       "      <td>24000.0</td>\n",
       "      <td>2</td>\n",
       "      <td>Fully Paid</td>\n",
       "      <td>2</td>\n",
       "      <td>27.65</td>\n",
       "      <td>0.0</td>\n",
       "      <td>3.0</td>\n",
       "      <td>0.0</td>\n",
       "      <td>13648.0</td>\n",
       "      <td>83.7</td>\n",
       "      <td>9.0</td>\n",
       "      <td>0</td>\n",
       "      <td>0.0</td>\n",
       "    </tr>\n",
       "    <tr>\n",
       "      <th>1</th>\n",
       "      <td>2500.0</td>\n",
       "      <td>2500.0</td>\n",
       "      <td>60</td>\n",
       "      <td>15.27</td>\n",
       "      <td>59.83</td>\n",
       "      <td>0.0</td>\n",
       "      <td>2</td>\n",
       "      <td>30000.0</td>\n",
       "      <td>0</td>\n",
       "      <td>Charged Off</td>\n",
       "      <td>7</td>\n",
       "      <td>1.00</td>\n",
       "      <td>0.0</td>\n",
       "      <td>3.0</td>\n",
       "      <td>0.0</td>\n",
       "      <td>1687.0</td>\n",
       "      <td>9.4</td>\n",
       "      <td>4.0</td>\n",
       "      <td>0</td>\n",
       "      <td>0.0</td>\n",
       "    </tr>\n",
       "    <tr>\n",
       "      <th>2</th>\n",
       "      <td>2400.0</td>\n",
       "      <td>2400.0</td>\n",
       "      <td>36</td>\n",
       "      <td>15.96</td>\n",
       "      <td>84.33</td>\n",
       "      <td>10.0</td>\n",
       "      <td>2</td>\n",
       "      <td>12252.0</td>\n",
       "      <td>1</td>\n",
       "      <td>Fully Paid</td>\n",
       "      <td>5</td>\n",
       "      <td>8.72</td>\n",
       "      <td>0.0</td>\n",
       "      <td>2.0</td>\n",
       "      <td>0.0</td>\n",
       "      <td>2956.0</td>\n",
       "      <td>98.5</td>\n",
       "      <td>10.0</td>\n",
       "      <td>0</td>\n",
       "      <td>0.0</td>\n",
       "    </tr>\n",
       "    <tr>\n",
       "      <th>3</th>\n",
       "      <td>10000.0</td>\n",
       "      <td>10000.0</td>\n",
       "      <td>36</td>\n",
       "      <td>13.49</td>\n",
       "      <td>339.31</td>\n",
       "      <td>10.0</td>\n",
       "      <td>2</td>\n",
       "      <td>49200.0</td>\n",
       "      <td>0</td>\n",
       "      <td>Fully Paid</td>\n",
       "      <td>3</td>\n",
       "      <td>20.00</td>\n",
       "      <td>0.0</td>\n",
       "      <td>10.0</td>\n",
       "      <td>0.0</td>\n",
       "      <td>5598.0</td>\n",
       "      <td>21.0</td>\n",
       "      <td>37.0</td>\n",
       "      <td>0</td>\n",
       "      <td>0.0</td>\n",
       "    </tr>\n",
       "    <tr>\n",
       "      <th>4</th>\n",
       "      <td>3000.0</td>\n",
       "      <td>3000.0</td>\n",
       "      <td>60</td>\n",
       "      <td>12.69</td>\n",
       "      <td>67.79</td>\n",
       "      <td>1.0</td>\n",
       "      <td>2</td>\n",
       "      <td>80000.0</td>\n",
       "      <td>0</td>\n",
       "      <td>Current</td>\n",
       "      <td>3</td>\n",
       "      <td>17.94</td>\n",
       "      <td>0.0</td>\n",
       "      <td>15.0</td>\n",
       "      <td>0.0</td>\n",
       "      <td>27783.0</td>\n",
       "      <td>53.9</td>\n",
       "      <td>38.0</td>\n",
       "      <td>0</td>\n",
       "      <td>0.0</td>\n",
       "    </tr>\n",
       "    <tr>\n",
       "      <th>...</th>\n",
       "      <td>...</td>\n",
       "      <td>...</td>\n",
       "      <td>...</td>\n",
       "      <td>...</td>\n",
       "      <td>...</td>\n",
       "      <td>...</td>\n",
       "      <td>...</td>\n",
       "      <td>...</td>\n",
       "      <td>...</td>\n",
       "      <td>...</td>\n",
       "      <td>...</td>\n",
       "      <td>...</td>\n",
       "      <td>...</td>\n",
       "      <td>...</td>\n",
       "      <td>...</td>\n",
       "      <td>...</td>\n",
       "      <td>...</td>\n",
       "      <td>...</td>\n",
       "      <td>...</td>\n",
       "      <td>...</td>\n",
       "    </tr>\n",
       "    <tr>\n",
       "      <th>842062</th>\n",
       "      <td>10000.0</td>\n",
       "      <td>10000.0</td>\n",
       "      <td>36</td>\n",
       "      <td>11.99</td>\n",
       "      <td>332.10</td>\n",
       "      <td>8.0</td>\n",
       "      <td>2</td>\n",
       "      <td>31000.0</td>\n",
       "      <td>2</td>\n",
       "      <td>Current</td>\n",
       "      <td>0</td>\n",
       "      <td>28.69</td>\n",
       "      <td>0.0</td>\n",
       "      <td>9.0</td>\n",
       "      <td>1.0</td>\n",
       "      <td>14037.0</td>\n",
       "      <td>82.1</td>\n",
       "      <td>15.0</td>\n",
       "      <td>0</td>\n",
       "      <td>0.0</td>\n",
       "    </tr>\n",
       "    <tr>\n",
       "      <th>842063</th>\n",
       "      <td>24000.0</td>\n",
       "      <td>24000.0</td>\n",
       "      <td>36</td>\n",
       "      <td>11.99</td>\n",
       "      <td>797.03</td>\n",
       "      <td>10.0</td>\n",
       "      <td>1</td>\n",
       "      <td>79000.0</td>\n",
       "      <td>2</td>\n",
       "      <td>Current</td>\n",
       "      <td>1</td>\n",
       "      <td>3.90</td>\n",
       "      <td>0.0</td>\n",
       "      <td>5.0</td>\n",
       "      <td>0.0</td>\n",
       "      <td>8621.0</td>\n",
       "      <td>84.5</td>\n",
       "      <td>23.0</td>\n",
       "      <td>0</td>\n",
       "      <td>0.0</td>\n",
       "    </tr>\n",
       "    <tr>\n",
       "      <th>842064</th>\n",
       "      <td>13000.0</td>\n",
       "      <td>13000.0</td>\n",
       "      <td>60</td>\n",
       "      <td>15.99</td>\n",
       "      <td>316.07</td>\n",
       "      <td>5.0</td>\n",
       "      <td>2</td>\n",
       "      <td>35000.0</td>\n",
       "      <td>2</td>\n",
       "      <td>Current</td>\n",
       "      <td>0</td>\n",
       "      <td>30.90</td>\n",
       "      <td>0.0</td>\n",
       "      <td>9.0</td>\n",
       "      <td>1.0</td>\n",
       "      <td>11031.0</td>\n",
       "      <td>61.3</td>\n",
       "      <td>22.0</td>\n",
       "      <td>0</td>\n",
       "      <td>0.0</td>\n",
       "    </tr>\n",
       "    <tr>\n",
       "      <th>842065</th>\n",
       "      <td>12000.0</td>\n",
       "      <td>12000.0</td>\n",
       "      <td>60</td>\n",
       "      <td>19.99</td>\n",
       "      <td>317.86</td>\n",
       "      <td>1.0</td>\n",
       "      <td>2</td>\n",
       "      <td>64400.0</td>\n",
       "      <td>0</td>\n",
       "      <td>Current</td>\n",
       "      <td>0</td>\n",
       "      <td>27.19</td>\n",
       "      <td>1.0</td>\n",
       "      <td>17.0</td>\n",
       "      <td>0.0</td>\n",
       "      <td>8254.0</td>\n",
       "      <td>30.6</td>\n",
       "      <td>20.0</td>\n",
       "      <td>0</td>\n",
       "      <td>0.0</td>\n",
       "    </tr>\n",
       "    <tr>\n",
       "      <th>842066</th>\n",
       "      <td>20000.0</td>\n",
       "      <td>20000.0</td>\n",
       "      <td>36</td>\n",
       "      <td>11.99</td>\n",
       "      <td>664.20</td>\n",
       "      <td>10.0</td>\n",
       "      <td>2</td>\n",
       "      <td>100000.0</td>\n",
       "      <td>2</td>\n",
       "      <td>Current</td>\n",
       "      <td>2</td>\n",
       "      <td>10.83</td>\n",
       "      <td>0.0</td>\n",
       "      <td>8.0</td>\n",
       "      <td>1.0</td>\n",
       "      <td>33266.0</td>\n",
       "      <td>79.8</td>\n",
       "      <td>10.0</td>\n",
       "      <td>0</td>\n",
       "      <td>0.0</td>\n",
       "    </tr>\n",
       "  </tbody>\n",
       "</table>\n",
       "<p>842067 rows × 20 columns</p>\n",
       "</div>"
      ],
      "text/plain": [
       "        loan_amnt  funded_amnt_inv term  int_rate  installment  emp_length  \\\n",
       "0          5000.0           4975.0   36     10.65       162.87        10.0   \n",
       "1          2500.0           2500.0   60     15.27        59.83         0.0   \n",
       "2          2400.0           2400.0   36     15.96        84.33        10.0   \n",
       "3         10000.0          10000.0   36     13.49       339.31        10.0   \n",
       "4          3000.0           3000.0   60     12.69        67.79         1.0   \n",
       "...           ...              ...  ...       ...          ...         ...   \n",
       "842062    10000.0          10000.0   36     11.99       332.10         8.0   \n",
       "842063    24000.0          24000.0   36     11.99       797.03        10.0   \n",
       "842064    13000.0          13000.0   60     15.99       316.07         5.0   \n",
       "842065    12000.0          12000.0   60     19.99       317.86         1.0   \n",
       "842066    20000.0          20000.0   36     11.99       664.20        10.0   \n",
       "\n",
       "        home_ownership  annual_inc  verification_status  loan_status  purpose  \\\n",
       "0                    2     24000.0                    2   Fully Paid        2   \n",
       "1                    2     30000.0                    0  Charged Off        7   \n",
       "2                    2     12252.0                    1   Fully Paid        5   \n",
       "3                    2     49200.0                    0   Fully Paid        3   \n",
       "4                    2     80000.0                    0      Current        3   \n",
       "...                ...         ...                  ...          ...      ...   \n",
       "842062               2     31000.0                    2      Current        0   \n",
       "842063               1     79000.0                    2      Current        1   \n",
       "842064               2     35000.0                    2      Current        0   \n",
       "842065               2     64400.0                    0      Current        0   \n",
       "842066               2    100000.0                    2      Current        2   \n",
       "\n",
       "          dti  delinq_2yrs  open_acc  pub_rec  revol_bal  revol_util  \\\n",
       "0       27.65          0.0       3.0      0.0    13648.0        83.7   \n",
       "1        1.00          0.0       3.0      0.0     1687.0         9.4   \n",
       "2        8.72          0.0       2.0      0.0     2956.0        98.5   \n",
       "3       20.00          0.0      10.0      0.0     5598.0        21.0   \n",
       "4       17.94          0.0      15.0      0.0    27783.0        53.9   \n",
       "...       ...          ...       ...      ...        ...         ...   \n",
       "842062  28.69          0.0       9.0      1.0    14037.0        82.1   \n",
       "842063   3.90          0.0       5.0      0.0     8621.0        84.5   \n",
       "842064  30.90          0.0       9.0      1.0    11031.0        61.3   \n",
       "842065  27.19          1.0      17.0      0.0     8254.0        30.6   \n",
       "842066  10.83          0.0       8.0      1.0    33266.0        79.8   \n",
       "\n",
       "        total_acc  application_type  acc_now_delinq  \n",
       "0             9.0                 0             0.0  \n",
       "1             4.0                 0             0.0  \n",
       "2            10.0                 0             0.0  \n",
       "3            37.0                 0             0.0  \n",
       "4            38.0                 0             0.0  \n",
       "...           ...               ...             ...  \n",
       "842062       15.0                 0             0.0  \n",
       "842063       23.0                 0             0.0  \n",
       "842064       22.0                 0             0.0  \n",
       "842065       20.0                 0             0.0  \n",
       "842066       10.0                 0             0.0  \n",
       "\n",
       "[842067 rows x 20 columns]"
      ]
     },
     "execution_count": 21,
     "metadata": {},
     "output_type": "execute_result"
    }
   ],
   "source": [
    "df.dropna(inplace=True)\n",
    "df.reset_index(drop=True)"
   ]
  },
  {
   "cell_type": "code",
   "execution_count": 22,
   "metadata": {},
   "outputs": [],
   "source": [
    "lst=['Current','Fully Paid','Issued']\n",
    "def loan_status(x):\n",
    "    if x in lst:\n",
    "        return 1\n",
    "    else:\n",
    "        return 0\n",
    "df['loan_status']=df['loan_status'].apply(loan_status)"
   ]
  },
  {
   "cell_type": "code",
   "execution_count": 23,
   "metadata": {},
   "outputs": [
    {
     "data": {
      "text/plain": [
       "1    776476\n",
       "0     65591\n",
       "Name: loan_status, dtype: int64"
      ]
     },
     "execution_count": 23,
     "metadata": {},
     "output_type": "execute_result"
    }
   ],
   "source": [
    "df['loan_status'].value_counts()"
   ]
  },
  {
   "cell_type": "markdown",
   "metadata": {},
   "source": [
    "# FEATURE EXTRACTION"
   ]
  },
  {
   "cell_type": "code",
   "execution_count": 24,
   "metadata": {},
   "outputs": [],
   "source": [
    "x=df.drop(['loan_status'],axis=1,)\n",
    "y=df['loan_status']"
   ]
  },
  {
   "cell_type": "code",
   "execution_count": 25,
   "metadata": {},
   "outputs": [
    {
     "name": "stdout",
     "output_type": "stream",
     "text": [
      "[6.45964175e-02 7.35219137e-02 3.16585564e-03 1.07775428e-01\n",
      " 7.99765115e-02 5.15698682e-02 2.28573434e-02 8.20239864e-02\n",
      " 9.82160996e-03 3.67603460e-02 8.40522865e-02 3.32020737e-02\n",
      " 7.66673182e-02 2.16566175e-02 8.46934022e-02 8.50045510e-02\n",
      " 8.09729219e-02 6.69136046e-05 1.61463527e-03]\n",
      "loan_amnt              0.064596\n",
      "funded_amnt_inv        0.073522\n",
      "term                   0.003166\n",
      "int_rate               0.107775\n",
      "installment            0.079977\n",
      "emp_length             0.051570\n",
      "home_ownership         0.022857\n",
      "annual_inc             0.082024\n",
      "verification_status    0.009822\n",
      "purpose                0.036760\n",
      "dti                    0.084052\n",
      "delinq_2yrs            0.033202\n",
      "open_acc               0.076667\n",
      "pub_rec                0.021657\n",
      "revol_bal              0.084693\n",
      "revol_util             0.085005\n",
      "total_acc              0.080973\n",
      "application_type       0.000067\n",
      "acc_now_delinq         0.001615\n",
      "dtype: float64\n"
     ]
    },
    {
     "data": {
      "image/png": "[encoded data removed]",
      "text/plain": [
       "<Figure size 720x576 with 1 Axes>"
      ]
     },
     "metadata": {
      "needs_background": "light"
     },
     "output_type": "display_data"
    }
   ],
   "source": [
    "plt.figure(figsize=(10,8))\n",
    "from sklearn.ensemble import ExtraTreesClassifier\n",
    "import matplotlib.pyplot as plt\n",
    "model = ExtraTreesClassifier()\n",
    "model.fit(x,y)\n",
    "print(model.feature_importances_)\n",
    "feat_importances = pd.Series(model.feature_importances_, index=x.columns)\n",
    "print(feat_importances)\n",
    "feat_importances.nlargest(19).plot(kind='barh')\n",
    "plt.show()"
   ]
  },
  {
   "cell_type": "code",
   "execution_count": 26,
   "metadata": {},
   "outputs": [],
   "source": [
    "x=df.drop(['application_type','acc_now_delinq','term','home_ownership','pub_rec','delinq_2yrs'\n",
    "           ,'purpose','emp_length','verification_status','loan_status'],axis=1)"
   ]
  },
  {
   "cell_type": "markdown",
   "metadata": {},
   "source": [
    "# Importing important libraries "
   ]
  },
  {
   "cell_type": "code",
   "execution_count": 27,
   "metadata": {},
   "outputs": [],
   "source": [
    "from sklearn.model_selection import train_test_split\n",
    "from sklearn.metrics import classification_report\n",
    "from sklearn.metrics import accuracy_score,precision_score,recall_score\n",
    "from sklearn.metrics import roc_curve, auc\n",
    "from sklearn.model_selection import cross_val_score\n",
    "from sklearn.metrics import confusion_matrix\n",
    "from sklearn.metrics import precision_score,recall_score,f1_score"
   ]
  },
  {
   "cell_type": "code",
   "execution_count": 28,
   "metadata": {},
   "outputs": [],
   "source": [
    "from sklearn.tree import DecisionTreeClassifier"
   ]
  },
  {
   "cell_type": "markdown",
   "metadata": {},
   "source": [
    "## 1.Apply for imbalanced data"
   ]
  },
  {
   "cell_type": "code",
   "execution_count": 29,
   "metadata": {},
   "outputs": [],
   "source": [
    "x_train,x_test,y_train,y_test=train_test_split(x,y,test_size=0.3)"
   ]
  },
  {
   "cell_type": "code",
   "execution_count": 30,
   "metadata": {},
   "outputs": [],
   "source": [
    "dtc=DecisionTreeClassifier()"
   ]
  },
  {
   "cell_type": "code",
   "execution_count": 31,
   "metadata": {},
   "outputs": [
    {
     "data": {
      "text/plain": [
       "DecisionTreeClassifier()"
      ]
     },
     "execution_count": 31,
     "metadata": {},
     "output_type": "execute_result"
    }
   ],
   "source": [
    "dtc.fit(x_train,y_train)"
   ]
  },
  {
   "cell_type": "code",
   "execution_count": 32,
   "metadata": {},
   "outputs": [],
   "source": [
    "predictions=dtc.predict(x_test)"
   ]
  },
  {
   "cell_type": "code",
   "execution_count": 33,
   "metadata": {},
   "outputs": [
    {
     "name": "stdout",
     "output_type": "stream",
     "text": [
      "Classification Report\n",
      "              precision    recall  f1-score   support\n",
      "\n",
      "           0       0.14      0.16      0.15     19695\n",
      "           1       0.93      0.92      0.92    232926\n",
      "\n",
      "    accuracy                           0.86    252621\n",
      "   macro avg       0.54      0.54      0.54    252621\n",
      "weighted avg       0.87      0.86      0.86    252621\n",
      "\n",
      "Confusion Matrix:\n",
      "[[  3211  16484]\n",
      " [ 19413 213513]]\n",
      "\n",
      "\n",
      "Accuracy 0.8579017579694483\n",
      "F1_Score 0.9224557863834806\n"
     ]
    }
   ],
   "source": [
    "print('Classification Report')\n",
    "print(classification_report(y_test,predictions))\n",
    "print(\"Confusion Matrix:\")\n",
    "print(confusion_matrix(y_test,predictions))\n",
    "print('\\n')\n",
    "print('Accuracy',accuracy_score(y_test,predictions))\n",
    "print('F1_Score',f1_score(y_test,predictions))"
   ]
  },
  {
   "cell_type": "markdown",
   "metadata": {},
   "source": [
    "## 2.Apply SMOTE"
   ]
  },
  {
   "cell_type": "code",
   "execution_count": 34,
   "metadata": {},
   "outputs": [],
   "source": [
    "from imblearn.over_sampling import SMOTE"
   ]
  },
  {
   "cell_type": "code",
   "execution_count": 35,
   "metadata": {},
   "outputs": [],
   "source": [
    "sm = SMOTE(random_state=42)\n",
    "X_res, y_res = sm.fit_resample(x, y)"
   ]
  },
  {
   "cell_type": "code",
   "execution_count": 36,
   "metadata": {},
   "outputs": [],
   "source": [
    "x1_train, x1_test, y1_train, y1_test = train_test_split(X_res, y_res, test_size=0.3)"
   ]
  },
  {
   "cell_type": "code",
   "execution_count": 37,
   "metadata": {},
   "outputs": [],
   "source": [
    "dtc1=DecisionTreeClassifier()"
   ]
  },
  {
   "cell_type": "code",
   "execution_count": 38,
   "metadata": {},
   "outputs": [
    {
     "data": {
      "text/plain": [
       "DecisionTreeClassifier()"
      ]
     },
     "execution_count": 38,
     "metadata": {},
     "output_type": "execute_result"
    }
   ],
   "source": [
    "dtc1.fit(x1_train,y1_train)"
   ]
  },
  {
   "cell_type": "code",
   "execution_count": 39,
   "metadata": {},
   "outputs": [],
   "source": [
    "predictions1=dtc1.predict(x1_test)"
   ]
  },
  {
   "cell_type": "code",
   "execution_count": 40,
   "metadata": {},
   "outputs": [
    {
     "name": "stdout",
     "output_type": "stream",
     "text": [
      "Classification Report\n",
      "              precision    recall  f1-score   support\n",
      "\n",
      "           0       0.91      0.92      0.91    232994\n",
      "           1       0.92      0.91      0.91    232892\n",
      "\n",
      "    accuracy                           0.91    465886\n",
      "   macro avg       0.91      0.91      0.91    465886\n",
      "weighted avg       0.91      0.91      0.91    465886\n",
      "\n",
      "Confusion Matrix:\n",
      "[[214112  18882]\n",
      " [ 21810 211082]]\n",
      "\n",
      "\n",
      "Accuracy 0.912656744353769\n",
      "F1_Score 0.9120849681110325\n"
     ]
    }
   ],
   "source": [
    "print('Classification Report')\n",
    "print(classification_report(y1_test,predictions1))\n",
    "print(\"Confusion Matrix:\")\n",
    "print(confusion_matrix(y1_test,predictions1))\n",
    "print('\\n')\n",
    "print('Accuracy',accuracy_score(y1_test,predictions1))\n",
    "print('F1_Score',f1_score(y1_test,predictions1))"
   ]
  },
  {
   "cell_type": "markdown",
   "metadata": {},
   "source": [
    "## 3.Apply NearMiss"
   ]
  },
  {
   "cell_type": "code",
   "execution_count": 41,
   "metadata": {},
   "outputs": [],
   "source": [
    "from imblearn.under_sampling import NearMiss \n",
    "nr = NearMiss() \n",
    "X1_res, y1_res = nr.fit_resample(x, y)"
   ]
  },
  {
   "cell_type": "code",
   "execution_count": 42,
   "metadata": {},
   "outputs": [],
   "source": [
    "x2_train, x2_test, y2_train, y2_test = train_test_split(X1_res, y1_res, test_size=0.3)"
   ]
  },
  {
   "cell_type": "code",
   "execution_count": 43,
   "metadata": {},
   "outputs": [],
   "source": [
    "dtc2=DecisionTreeClassifier()"
   ]
  },
  {
   "cell_type": "code",
   "execution_count": 44,
   "metadata": {},
   "outputs": [
    {
     "data": {
      "text/plain": [
       "DecisionTreeClassifier()"
      ]
     },
     "execution_count": 44,
     "metadata": {},
     "output_type": "execute_result"
    }
   ],
   "source": [
    "dtc2.fit(x2_train,y2_train)"
   ]
  },
  {
   "cell_type": "code",
   "execution_count": 45,
   "metadata": {},
   "outputs": [],
   "source": [
    "predictions2=dtc2.predict(x2_test)"
   ]
  },
  {
   "cell_type": "code",
   "execution_count": 46,
   "metadata": {},
   "outputs": [
    {
     "name": "stdout",
     "output_type": "stream",
     "text": [
      "Classification Report\n",
      "              precision    recall  f1-score   support\n",
      "\n",
      "           0       0.78      0.77      0.78     19661\n",
      "           1       0.78      0.78      0.78     19694\n",
      "\n",
      "    accuracy                           0.78     39355\n",
      "   macro avg       0.78      0.78      0.78     39355\n",
      "weighted avg       0.78      0.78      0.78     39355\n",
      "\n",
      "Confusion Matrix:\n",
      "[[15207  4454]\n",
      " [ 4310 15384]]\n",
      "\n",
      "\n",
      "Accuracy 0.777309109388896\n",
      "F1_Score 0.7783061823332996\n"
     ]
    }
   ],
   "source": [
    "print('Classification Report')\n",
    "print(classification_report(y2_test,predictions2))\n",
    "print(\"Confusion Matrix:\")\n",
    "print(confusion_matrix(y2_test,predictions2))\n",
    "print('\\n')\n",
    "print('Accuracy',accuracy_score(y2_test,predictions2))\n",
    "print('F1_Score',f1_score(y2_test,predictions2))"
   ]
  },
  {
   "cell_type": "code",
   "execution_count": 47,
   "metadata": {},
   "outputs": [],
   "source": [
    "x1=x\n",
    "y1=y"
   ]
  },
  {
   "cell_type": "markdown",
   "metadata": {},
   "source": [
    "# Logistic Regression"
   ]
  },
  {
   "cell_type": "code",
   "execution_count": 48,
   "metadata": {},
   "outputs": [],
   "source": [
    "from sklearn.linear_model import LogisticRegression"
   ]
  },
  {
   "cell_type": "markdown",
   "metadata": {},
   "source": [
    "## 1.Apply for imbalanced Data"
   ]
  },
  {
   "cell_type": "code",
   "execution_count": 49,
   "metadata": {},
   "outputs": [],
   "source": [
    "x3_train, x3_test, y3_train, y3_test = train_test_split(x1, y1, test_size=0.3)"
   ]
  },
  {
   "cell_type": "code",
   "execution_count": 50,
   "metadata": {},
   "outputs": [],
   "source": [
    "lr=LogisticRegression()"
   ]
  },
  {
   "cell_type": "code",
   "execution_count": 51,
   "metadata": {},
   "outputs": [
    {
     "data": {
      "text/plain": [
       "LogisticRegression()"
      ]
     },
     "execution_count": 51,
     "metadata": {},
     "output_type": "execute_result"
    }
   ],
   "source": [
    "lr.fit(x3_train,y3_train)"
   ]
  },
  {
   "cell_type": "code",
   "execution_count": 52,
   "metadata": {},
   "outputs": [],
   "source": [
    "predictions3=lr.predict(x3_test)"
   ]
  },
  {
   "cell_type": "code",
   "execution_count": 53,
   "metadata": {},
   "outputs": [
    {
     "name": "stdout",
     "output_type": "stream",
     "text": [
      "Classification Report\n",
      "              precision    recall  f1-score   support\n",
      "\n",
      "           0       0.44      0.01      0.01     19736\n",
      "           1       0.92      1.00      0.96    232885\n",
      "\n",
      "    accuracy                           0.92    252621\n",
      "   macro avg       0.68      0.50      0.48    252621\n",
      "weighted avg       0.88      0.92      0.89    252621\n",
      "\n",
      "Confusion Matrix:\n",
      "[[   101  19635]\n",
      " [   131 232754]]\n",
      "\n",
      "\n",
      "Accuracy 0.9217563068786839\n",
      "F1_Score 0.9592683720949402\n"
     ]
    }
   ],
   "source": [
    "print('Classification Report')\n",
    "print(classification_report(y3_test,predictions3))\n",
    "print(\"Confusion Matrix:\")\n",
    "print(confusion_matrix(y3_test,predictions3))\n",
    "print('\\n')\n",
    "print('Accuracy',accuracy_score(y3_test,predictions3))\n",
    "print('F1_Score',f1_score(y3_test,predictions3))"
   ]
  },
  {
   "cell_type": "markdown",
   "metadata": {},
   "source": [
    "## 2. Apply SMOTE"
   ]
  },
  {
   "cell_type": "code",
   "execution_count": 54,
   "metadata": {},
   "outputs": [],
   "source": [
    "sm1 = SMOTE(random_state=42)\n",
    "X2_res, y2_res = sm1.fit_resample(x1, y1)"
   ]
  },
  {
   "cell_type": "code",
   "execution_count": 55,
   "metadata": {},
   "outputs": [],
   "source": [
    "x4_train, x4_test, y4_train, y4_test = train_test_split(X2_res, y2_res, test_size=0.3)"
   ]
  },
  {
   "cell_type": "code",
   "execution_count": 56,
   "metadata": {},
   "outputs": [],
   "source": [
    "lr1=LogisticRegression()"
   ]
  },
  {
   "cell_type": "code",
   "execution_count": 57,
   "metadata": {},
   "outputs": [
    {
     "data": {
      "text/plain": [
       "LogisticRegression()"
      ]
     },
     "execution_count": 57,
     "metadata": {},
     "output_type": "execute_result"
    }
   ],
   "source": [
    "lr1.fit(x4_train,y4_train)"
   ]
  },
  {
   "cell_type": "code",
   "execution_count": 58,
   "metadata": {},
   "outputs": [],
   "source": [
    "predictions4=lr1.predict(x4_test)"
   ]
  },
  {
   "cell_type": "code",
   "execution_count": 59,
   "metadata": {},
   "outputs": [
    {
     "name": "stdout",
     "output_type": "stream",
     "text": [
      "Classification Report\n",
      "              precision    recall  f1-score   support\n",
      "\n",
      "           0       0.60      0.65      0.62    232697\n",
      "           1       0.62      0.58      0.60    233189\n",
      "\n",
      "    accuracy                           0.61    465886\n",
      "   macro avg       0.61      0.61      0.61    465886\n",
      "weighted avg       0.61      0.61      0.61    465886\n",
      "\n",
      "Confusion Matrix:\n",
      "[[150143  82554]\n",
      " [ 98332 134857]]\n",
      "\n",
      "\n",
      "Accuracy 0.6117376353871977\n",
      "F1_Score 0.5985663559698181\n"
     ]
    }
   ],
   "source": [
    "print('Classification Report')\n",
    "print(classification_report(y4_test,predictions4))\n",
    "print(\"Confusion Matrix:\")\n",
    "print(confusion_matrix(y4_test,predictions4))\n",
    "print('\\n')\n",
    "print('Accuracy',accuracy_score(y4_test,predictions4))\n",
    "print('F1_Score',f1_score(y4_test,predictions4))"
   ]
  },
  {
   "cell_type": "markdown",
   "metadata": {},
   "source": [
    "## Apply NearMiss"
   ]
  },
  {
   "cell_type": "code",
   "execution_count": 60,
   "metadata": {},
   "outputs": [],
   "source": [
    "nr1 = NearMiss() \n",
    "X3_res, y3_res = nr1.fit_resample(x1, y1)"
   ]
  },
  {
   "cell_type": "code",
   "execution_count": 61,
   "metadata": {},
   "outputs": [],
   "source": [
    "x5_train, x5_test, y5_train, y5_test = train_test_split(X3_res, y3_res, test_size=0.3)"
   ]
  },
  {
   "cell_type": "code",
   "execution_count": 62,
   "metadata": {},
   "outputs": [],
   "source": [
    "lr2=LogisticRegression()"
   ]
  },
  {
   "cell_type": "code",
   "execution_count": 63,
   "metadata": {},
   "outputs": [
    {
     "data": {
      "text/plain": [
       "LogisticRegression()"
      ]
     },
     "execution_count": 63,
     "metadata": {},
     "output_type": "execute_result"
    }
   ],
   "source": [
    "lr2.fit(x5_train,y5_train)"
   ]
  },
  {
   "cell_type": "code",
   "execution_count": 64,
   "metadata": {},
   "outputs": [],
   "source": [
    "predictions5=lr2.predict(x5_test)"
   ]
  },
  {
   "cell_type": "code",
   "execution_count": 65,
   "metadata": {},
   "outputs": [
    {
     "name": "stdout",
     "output_type": "stream",
     "text": [
      "Classification Report\n",
      "              precision    recall  f1-score   support\n",
      "\n",
      "           0       0.61      0.59      0.60     19675\n",
      "           1       0.61      0.63      0.62     19680\n",
      "\n",
      "    accuracy                           0.61     39355\n",
      "   macro avg       0.61      0.61      0.61     39355\n",
      "weighted avg       0.61      0.61      0.61     39355\n",
      "\n",
      "Confusion Matrix:\n",
      "[[11665  8010]\n",
      " [ 7333 12347]]\n",
      "\n",
      "\n",
      "Accuracy: 0.610138483039004\n",
      "F1_Score 0.6167794789819417\n"
     ]
    }
   ],
   "source": [
    "print('Classification Report')\n",
    "print(classification_report(y5_test,predictions5))\n",
    "print(\"Confusion Matrix:\")\n",
    "print(confusion_matrix(y5_test,predictions5))\n",
    "print('\\n')\n",
    "print(\"Accuracy:\",accuracy_score(y5_test,predictions5))\n",
    "print('F1_Score',f1_score(y5_test,predictions5))"
   ]
  },
  {
   "cell_type": "code",
   "execution_count": 66,
   "metadata": {},
   "outputs": [],
   "source": [
    "x2=x\n",
    "y2=y"
   ]
  },
  {
   "cell_type": "markdown",
   "metadata": {},
   "source": [
    "# 3.KNN"
   ]
  },
  {
   "cell_type": "code",
   "execution_count": 67,
   "metadata": {},
   "outputs": [],
   "source": [
    "from sklearn.neighbors import KNeighborsClassifier"
   ]
  },
  {
   "cell_type": "markdown",
   "metadata": {},
   "source": [
    "## 1. For imbalancing Data"
   ]
  },
  {
   "cell_type": "code",
   "execution_count": 68,
   "metadata": {},
   "outputs": [],
   "source": [
    "x6_train, x6_test, y6_train, y6_test = train_test_split(x2, y2, test_size=0.3)"
   ]
  },
  {
   "cell_type": "code",
   "execution_count": 69,
   "metadata": {},
   "outputs": [],
   "source": [
    "knn=KNeighborsClassifier()"
   ]
  },
  {
   "cell_type": "code",
   "execution_count": 70,
   "metadata": {},
   "outputs": [
    {
     "data": {
      "text/plain": [
       "KNeighborsClassifier()"
      ]
     },
     "execution_count": 70,
     "metadata": {},
     "output_type": "execute_result"
    }
   ],
   "source": [
    "knn.fit(x6_train,y6_train)"
   ]
  },
  {
   "cell_type": "code",
   "execution_count": 71,
   "metadata": {},
   "outputs": [],
   "source": [
    "predictions6=knn.predict(x6_test)"
   ]
  },
  {
   "cell_type": "code",
   "execution_count": 72,
   "metadata": {},
   "outputs": [
    {
     "name": "stdout",
     "output_type": "stream",
     "text": [
      "Classification Report\n",
      "              precision    recall  f1-score   support\n",
      "\n",
      "           0       0.16      0.01      0.02     19647\n",
      "           1       0.92      0.99      0.96    232974\n",
      "\n",
      "    accuracy                           0.92    252621\n",
      "   macro avg       0.54      0.50      0.49    252621\n",
      "weighted avg       0.86      0.92      0.88    252621\n",
      "\n",
      "Confusion Matrix:\n",
      "[[   230  19417]\n",
      " [  1186 231788]]\n",
      "\n",
      "\n",
      "Accuracy 0.9184430431357646\n",
      "F1_Score 0.9574475555528018\n"
     ]
    }
   ],
   "source": [
    "print('Classification Report')\n",
    "print(classification_report(y6_test,predictions6))\n",
    "print(\"Confusion Matrix:\")\n",
    "print(confusion_matrix(y6_test,predictions6))\n",
    "print('\\n')\n",
    "print(\"Accuracy\",accuracy_score(y6_test,predictions6))\n",
    "print(\"F1_Score\",f1_score(y6_test,predictions6))"
   ]
  },
  {
   "cell_type": "markdown",
   "metadata": {},
   "source": [
    "## 2 Apply SMOTE"
   ]
  },
  {
   "cell_type": "code",
   "execution_count": 73,
   "metadata": {},
   "outputs": [],
   "source": [
    "sm2 = SMOTE(random_state=42)\n",
    "X4_res, y4_res = sm2.fit_resample(x2, y2)"
   ]
  },
  {
   "cell_type": "code",
   "execution_count": 74,
   "metadata": {},
   "outputs": [],
   "source": [
    "x7_train, x7_test, y7_train, y7_test = train_test_split(X4_res, y4_res, test_size=0.3)"
   ]
  },
  {
   "cell_type": "code",
   "execution_count": 75,
   "metadata": {},
   "outputs": [],
   "source": [
    "knn1=KNeighborsClassifier()"
   ]
  },
  {
   "cell_type": "code",
   "execution_count": 76,
   "metadata": {},
   "outputs": [
    {
     "data": {
      "text/plain": [
       "KNeighborsClassifier()"
      ]
     },
     "execution_count": 76,
     "metadata": {},
     "output_type": "execute_result"
    }
   ],
   "source": [
    "knn1.fit(x7_train,y7_train)"
   ]
  },
  {
   "cell_type": "code",
   "execution_count": 77,
   "metadata": {},
   "outputs": [],
   "source": [
    "predictions7=knn1.predict(x7_test)"
   ]
  },
  {
   "cell_type": "code",
   "execution_count": 78,
   "metadata": {},
   "outputs": [
    {
     "name": "stdout",
     "output_type": "stream",
     "text": [
      "Classification Report\n",
      "              precision    recall  f1-score   support\n",
      "\n",
      "           0       0.75      0.89      0.81    233042\n",
      "           1       0.86      0.70      0.77    232844\n",
      "\n",
      "    accuracy                           0.79    465886\n",
      "   macro avg       0.80      0.79      0.79    465886\n",
      "weighted avg       0.80      0.79      0.79    465886\n",
      "\n",
      "Confusion Matrix:\n",
      "[[206814  26228]\n",
      " [ 70406 162438]]\n",
      "\n",
      "\n",
      "Accuracy: 0.7925801590947141\n",
      "f1_score: 0.7707432801119783\n"
     ]
    }
   ],
   "source": [
    "print('Classification Report')\n",
    "print(classification_report(y7_test,predictions7))\n",
    "print(\"Confusion Matrix:\")\n",
    "print(confusion_matrix(y7_test,predictions7))\n",
    "print('\\n')\n",
    "print(\"Accuracy:\",accuracy_score(y7_test,predictions7))\n",
    "print(\"f1_score:\",f1_score(y7_test,predictions7))"
   ]
  },
  {
   "cell_type": "markdown",
   "metadata": {},
   "source": [
    "## 3.Apply NearMiss"
   ]
  },
  {
   "cell_type": "code",
   "execution_count": 79,
   "metadata": {},
   "outputs": [],
   "source": [
    "nr2 = NearMiss() \n",
    "X5_res, y5_res = nr2.fit_resample(x2, y2)"
   ]
  },
  {
   "cell_type": "code",
   "execution_count": 80,
   "metadata": {},
   "outputs": [],
   "source": [
    "x8_train, x8_test, y8_train, y8_test = train_test_split(X5_res, y5_res, test_size=0.3)"
   ]
  },
  {
   "cell_type": "code",
   "execution_count": 81,
   "metadata": {},
   "outputs": [],
   "source": [
    "knn2=KNeighborsClassifier()"
   ]
  },
  {
   "cell_type": "code",
   "execution_count": 82,
   "metadata": {},
   "outputs": [
    {
     "data": {
      "text/plain": [
       "KNeighborsClassifier()"
      ]
     },
     "execution_count": 82,
     "metadata": {},
     "output_type": "execute_result"
    }
   ],
   "source": [
    "knn2.fit(x8_train,y8_train)"
   ]
  },
  {
   "cell_type": "code",
   "execution_count": 83,
   "metadata": {},
   "outputs": [],
   "source": [
    "predictions8=knn2.predict(x8_test)"
   ]
  },
  {
   "cell_type": "code",
   "execution_count": 84,
   "metadata": {},
   "outputs": [
    {
     "name": "stdout",
     "output_type": "stream",
     "text": [
      "Classification Report\n",
      "              precision    recall  f1-score   support\n",
      "\n",
      "           0       0.93      0.74      0.82     19640\n",
      "           1       0.78      0.95      0.86     19715\n",
      "\n",
      "    accuracy                           0.84     39355\n",
      "   macro avg       0.86      0.84      0.84     39355\n",
      "weighted avg       0.86      0.84      0.84     39355\n",
      "\n",
      "Confusion Matrix:\n",
      "[[14476  5164]\n",
      " [ 1052 18663]]\n",
      "\n",
      "\n",
      "Accuracy: 0.8420531063397281\n",
      "F1_Score: 0.8572412842772495\n"
     ]
    }
   ],
   "source": [
    "print('Classification Report')\n",
    "print(classification_report(y8_test,predictions8))\n",
    "print(\"Confusion Matrix:\")\n",
    "print(confusion_matrix(y8_test,predictions8))\n",
    "print('\\n')\n",
    "print(\"Accuracy:\",accuracy_score(y8_test,predictions8))\n",
    "print(\"F1_Score:\",f1_score(y8_test,predictions8))"
   ]
  },
  {
   "cell_type": "code",
   "execution_count": 85,
   "metadata": {},
   "outputs": [],
   "source": [
    "x3=x\n",
    "y3=y"
   ]
  },
  {
   "cell_type": "markdown",
   "metadata": {},
   "source": [
    "# 4.Random Forest"
   ]
  },
  {
   "cell_type": "code",
   "execution_count": 86,
   "metadata": {},
   "outputs": [],
   "source": [
    "from sklearn.ensemble import RandomForestClassifier"
   ]
  },
  {
   "cell_type": "markdown",
   "metadata": {},
   "source": [
    "## 1.For imbalancing Data"
   ]
  },
  {
   "cell_type": "code",
   "execution_count": 87,
   "metadata": {},
   "outputs": [],
   "source": [
    "x9_train, x9_test, y9_train, y9_test = train_test_split(x3, y3, test_size=0.3)"
   ]
  },
  {
   "cell_type": "code",
   "execution_count": 88,
   "metadata": {},
   "outputs": [],
   "source": [
    "rfc=RandomForestClassifier()"
   ]
  },
  {
   "cell_type": "code",
   "execution_count": 89,
   "metadata": {},
   "outputs": [
    {
     "data": {
      "text/plain": [
       "RandomForestClassifier()"
      ]
     },
     "execution_count": 89,
     "metadata": {},
     "output_type": "execute_result"
    }
   ],
   "source": [
    "rfc.fit(x9_train,y9_train)"
   ]
  },
  {
   "cell_type": "code",
   "execution_count": 90,
   "metadata": {},
   "outputs": [],
   "source": [
    "predictions9=rfc.predict(x9_test)"
   ]
  },
  {
   "cell_type": "code",
   "execution_count": 91,
   "metadata": {},
   "outputs": [
    {
     "name": "stdout",
     "output_type": "stream",
     "text": [
      "Classification Report\n",
      "              precision    recall  f1-score   support\n",
      "\n",
      "           0       0.72      0.01      0.02     19784\n",
      "           1       0.92      1.00      0.96    232837\n",
      "\n",
      "    accuracy                           0.92    252621\n",
      "   macro avg       0.82      0.51      0.49    252621\n",
      "weighted avg       0.91      0.92      0.89    252621\n",
      "\n",
      "Confusion Matrix:\n",
      "[[   236  19548]\n",
      " [    94 232743]]\n",
      "\n",
      "\n",
      "Accuracy: 0.9222471607665238\n",
      "f1_score: 0.9595117164954403\n"
     ]
    }
   ],
   "source": [
    "print('Classification Report')\n",
    "print(classification_report(y9_test,predictions9))\n",
    "print(\"Confusion Matrix:\")\n",
    "print(confusion_matrix(y9_test,predictions9))\n",
    "print('\\n')\n",
    "print(\"Accuracy:\",accuracy_score(y9_test,predictions9))\n",
    "print(\"f1_score:\",f1_score(y9_test,predictions9))"
   ]
  },
  {
   "cell_type": "markdown",
   "metadata": {},
   "source": [
    "## 2.Apply SMOTE"
   ]
  },
  {
   "cell_type": "code",
   "execution_count": 92,
   "metadata": {},
   "outputs": [],
   "source": [
    "sm3 = SMOTE(random_state=42)\n",
    "X6_res, y6_res = sm3.fit_resample(x3, y3)"
   ]
  },
  {
   "cell_type": "code",
   "execution_count": 93,
   "metadata": {},
   "outputs": [],
   "source": [
    "x10_train, x10_test, y10_train, y10_test = train_test_split(X6_res, y6_res, test_size=0.3)"
   ]
  },
  {
   "cell_type": "code",
   "execution_count": 94,
   "metadata": {},
   "outputs": [],
   "source": [
    "rfc1=RandomForestClassifier()"
   ]
  },
  {
   "cell_type": "code",
   "execution_count": 95,
   "metadata": {},
   "outputs": [
    {
     "data": {
      "text/plain": [
       "RandomForestClassifier()"
      ]
     },
     "execution_count": 95,
     "metadata": {},
     "output_type": "execute_result"
    }
   ],
   "source": [
    "rfc1.fit(x10_train,y10_train)"
   ]
  },
  {
   "cell_type": "code",
   "execution_count": 96,
   "metadata": {},
   "outputs": [],
   "source": [
    "predictions10=rfc1.predict(x10_test)"
   ]
  },
  {
   "cell_type": "code",
   "execution_count": 97,
   "metadata": {},
   "outputs": [
    {
     "name": "stdout",
     "output_type": "stream",
     "text": [
      "Classification Report\n",
      "              precision    recall  f1-score   support\n",
      "\n",
      "           0       0.98      0.92      0.95    232824\n",
      "           1       0.93      0.98      0.95    233062\n",
      "\n",
      "    accuracy                           0.95    465886\n",
      "   macro avg       0.95      0.95      0.95    465886\n",
      "weighted avg       0.95      0.95      0.95    465886\n",
      "\n",
      "Confusion Matrix:\n",
      "[[214576  18248]\n",
      " [  5283 227779]]\n",
      "\n",
      "\n",
      "accuracy: 0.9494919357954521\n",
      "f1_score: 0.9508838650021186\n"
     ]
    }
   ],
   "source": [
    "print('Classification Report')\n",
    "print(classification_report(y10_test,predictions10))\n",
    "print(\"Confusion Matrix:\")\n",
    "print(confusion_matrix(y10_test,predictions10))\n",
    "print('\\n')\n",
    "print(\"accuracy:\",accuracy_score(y10_test,predictions10))\n",
    "print(\"f1_score:\",f1_score(y10_test,predictions10))"
   ]
  },
  {
   "cell_type": "markdown",
   "metadata": {},
   "source": [
    "## 3.Apply NearMiss"
   ]
  },
  {
   "cell_type": "code",
   "execution_count": 98,
   "metadata": {},
   "outputs": [],
   "source": [
    "nr3 = NearMiss()\n",
    "X7_res, y7_res = nr3.fit_resample(x3, y3)"
   ]
  },
  {
   "cell_type": "code",
   "execution_count": 99,
   "metadata": {},
   "outputs": [],
   "source": [
    "x11_train, x11_test, y11_train, y11_test = train_test_split(X7_res, y7_res, test_size=0.3)"
   ]
  },
  {
   "cell_type": "code",
   "execution_count": 100,
   "metadata": {},
   "outputs": [],
   "source": [
    "rfc2=RandomForestClassifier()"
   ]
  },
  {
   "cell_type": "code",
   "execution_count": 101,
   "metadata": {},
   "outputs": [
    {
     "data": {
      "text/plain": [
       "RandomForestClassifier()"
      ]
     },
     "execution_count": 101,
     "metadata": {},
     "output_type": "execute_result"
    }
   ],
   "source": [
    "rfc2.fit(x11_train,y11_train)"
   ]
  },
  {
   "cell_type": "code",
   "execution_count": 102,
   "metadata": {},
   "outputs": [],
   "source": [
    "predictions11=rfc2.predict(x11_test)"
   ]
  },
  {
   "cell_type": "code",
   "execution_count": 103,
   "metadata": {},
   "outputs": [
    {
     "name": "stdout",
     "output_type": "stream",
     "text": [
      "Classification Report\n",
      "              precision    recall  f1-score   support\n",
      "\n",
      "           0       0.87      0.82      0.84     19678\n",
      "           1       0.83      0.87      0.85     19677\n",
      "\n",
      "    accuracy                           0.85     39355\n",
      "   macro avg       0.85      0.85      0.85     39355\n",
      "weighted avg       0.85      0.85      0.85     39355\n",
      "\n",
      "Confusion Matrix:\n",
      "[[16101  3577]\n",
      " [ 2508 17169]]\n",
      "\n",
      "\n",
      "accuracy: 0.8453817812222081\n",
      "f1_score: 0.8494668876629642\n"
     ]
    }
   ],
   "source": [
    "print('Classification Report')\n",
    "print(classification_report(y11_test,predictions11))\n",
    "print(\"Confusion Matrix:\")\n",
    "print(confusion_matrix(y11_test,predictions11))\n",
    "print('\\n')\n",
    "print(\"accuracy:\",accuracy_score(y11_test,predictions11))\n",
    "print(\"f1_score:\",f1_score(y11_test,predictions11))"
   ]
  },
  {
   "cell_type": "markdown",
   "metadata": {},
   "source": [
    "# Combined models smote"
   ]
  },
  {
   "cell_type": "code",
   "execution_count": 104,
   "metadata": {},
   "outputs": [],
   "source": [
    "from sklearn.ensemble import VotingClassifier"
   ]
  },
  {
   "cell_type": "code",
   "execution_count": 105,
   "metadata": {},
   "outputs": [],
   "source": [
    "x5=x\n",
    "y5=y"
   ]
  },
  {
   "cell_type": "code",
   "execution_count": 106,
   "metadata": {},
   "outputs": [],
   "source": [
    "sm4 = SMOTE(random_state=42)\n",
    "X9_res, y9_res = sm4.fit_resample(x5, y5)"
   ]
  },
  {
   "cell_type": "code",
   "execution_count": 107,
   "metadata": {},
   "outputs": [],
   "source": [
    "x13_train, x13_test, y13_train, y13_test = train_test_split(X9_res, y9_res, test_size=0.3)"
   ]
  },
  {
   "cell_type": "code",
   "execution_count": 108,
   "metadata": {},
   "outputs": [],
   "source": [
    "models = [] \n",
    "models.append(('LR', LogisticRegression())) \n",
    "models.append(('RFC', RandomForestClassifier())) \n",
    "models.append(('DTC', DecisionTreeClassifier()))\n",
    "models.append(('KNN', KNeighborsClassifier()))"
   ]
  },
  {
   "cell_type": "code",
   "execution_count": 109,
   "metadata": {},
   "outputs": [],
   "source": [
    "voting_soft1 = VotingClassifier(estimators = models, voting ='soft') \n",
    "voting_soft1.fit(x13_train, y13_train) \n",
    "predictions13 = voting_soft1.predict(x13_test)"
   ]
  },
  {
   "cell_type": "code",
   "execution_count": 110,
   "metadata": {},
   "outputs": [
    {
     "name": "stdout",
     "output_type": "stream",
     "text": [
      "Classification Report\n",
      "              precision    recall  f1-score   support\n",
      "\n",
      "           0       0.94      0.94      0.94    232583\n",
      "           1       0.94      0.94      0.94    233303\n",
      "\n",
      "    accuracy                           0.94    465886\n",
      "   macro avg       0.94      0.94      0.94    465886\n",
      "weighted avg       0.94      0.94      0.94    465886\n",
      "\n",
      "Confusion Matrix:\n",
      "[[217793  14790]\n",
      " [ 13208 220095]]\n",
      "\n",
      "\n",
      "Accuracy: 0.9399037532786991\n",
      "F1_Score: 0.9401992362042598\n"
     ]
    }
   ],
   "source": [
    "print('Classification Report')\n",
    "print(classification_report(y13_test,predictions13))\n",
    "print(\"Confusion Matrix:\")\n",
    "print(confusion_matrix(y13_test,predictions13))\n",
    "print('\\n')\n",
    "print(\"Accuracy:\",accuracy_score(y13_test,predictions13))\n",
    "print(\"F1_Score:\",f1_score(y13_test,predictions13))"
   ]
  },
  {
   "cell_type": "code",
   "execution_count": 111,
   "metadata": {},
   "outputs": [],
   "source": [
    "voting_hard1 = VotingClassifier(estimators = models, voting ='hard') \n",
    "voting_hard1.fit(x13_train, y13_train) \n",
    "H_predictions = voting_hard1.predict(x13_test)"
   ]
  },
  {
   "cell_type": "code",
   "execution_count": 112,
   "metadata": {},
   "outputs": [
    {
     "name": "stdout",
     "output_type": "stream",
     "text": [
      "Classification Report\n",
      "              precision    recall  f1-score   support\n",
      "\n",
      "           0       0.83      0.97      0.89    232583\n",
      "           1       0.96      0.80      0.88    233303\n",
      "\n",
      "    accuracy                           0.89    465886\n",
      "   macro avg       0.90      0.89      0.89    465886\n",
      "weighted avg       0.90      0.89      0.89    465886\n",
      "\n",
      "Confusion Matrix:\n",
      "[[225540   7043]\n",
      " [ 45899 187404]]\n",
      "\n",
      "\n",
      "Accuracy: 0.8863627582713368\n",
      "F1_Score: 0.8762314436002339\n"
     ]
    }
   ],
   "source": [
    "print('Classification Report')\n",
    "print(classification_report(y13_test,H_predictions))\n",
    "print(\"Confusion Matrix:\")\n",
    "print(confusion_matrix(y13_test,H_predictions))\n",
    "print('\\n')\n",
    "print(\"Accuracy:\",accuracy_score(y13_test,H_predictions))\n",
    "print(\"F1_Score:\",f1_score(y13_test,H_predictions))"
   ]
  },
  {
   "cell_type": "markdown",
   "metadata": {},
   "source": [
    "# Combined Model for NearMiss"
   ]
  },
  {
   "cell_type": "code",
   "execution_count": 113,
   "metadata": {},
   "outputs": [],
   "source": [
    "nr5 = NearMiss()\n",
    "X10_res, y10_res = nr5.fit_resample(x5, y5)"
   ]
  },
  {
   "cell_type": "code",
   "execution_count": 114,
   "metadata": {},
   "outputs": [],
   "source": [
    "x14_train, x14_test, y14_train, y14_test = train_test_split(X10_res, y10_res, test_size=0.3)"
   ]
  },
  {
   "cell_type": "code",
   "execution_count": 115,
   "metadata": {
    "scrolled": true
   },
   "outputs": [],
   "source": [
    "voting_soft2 = VotingClassifier(estimators = models, voting ='soft')\n",
    "voting_soft2.fit(x14_train, y14_train) \n",
    "predictions14= voting_soft2.predict(x14_test)"
   ]
  },
  {
   "cell_type": "code",
   "execution_count": 116,
   "metadata": {},
   "outputs": [
    {
     "name": "stdout",
     "output_type": "stream",
     "text": [
      "Classification Report\n",
      "              precision    recall  f1-score   support\n",
      "\n",
      "           0       0.87      0.80      0.83     19731\n",
      "           1       0.81      0.88      0.84     19624\n",
      "\n",
      "    accuracy                           0.84     39355\n",
      "   macro avg       0.84      0.84      0.84     39355\n",
      "weighted avg       0.84      0.84      0.84     39355\n",
      "\n",
      "Confusion Matrix:\n",
      "[[15714  4017]\n",
      " [ 2407 17217]]\n",
      "\n",
      "\n",
      "Accuracy: 0.8367678820988439\n",
      "f1_score: 0.8427725292476382\n"
     ]
    }
   ],
   "source": [
    "print('Classification Report')\n",
    "print(classification_report(y14_test,predictions14))\n",
    "print(\"Confusion Matrix:\")\n",
    "print(confusion_matrix(y14_test,predictions14))\n",
    "print('\\n')\n",
    "print(\"Accuracy:\",accuracy_score(y14_test,predictions14))\n",
    "print(\"f1_score:\",f1_score(y14_test,predictions14))"
   ]
  },
  {
   "cell_type": "code",
   "execution_count": 117,
   "metadata": {},
   "outputs": [],
   "source": [
    "voting_hard2 = VotingClassifier(estimators = models, voting ='hard') \n",
    "voting_hard2.fit(x14_train, y14_train) \n",
    "H_predictions2 = voting_hard1.predict(x14_test)"
   ]
  },
  {
   "cell_type": "code",
   "execution_count": 118,
   "metadata": {},
   "outputs": [
    {
     "name": "stdout",
     "output_type": "stream",
     "text": [
      "Classification Report\n",
      "              precision    recall  f1-score   support\n",
      "\n",
      "           0       0.79      0.90      0.84     19731\n",
      "           1       0.89      0.76      0.82     19624\n",
      "\n",
      "    accuracy                           0.83     39355\n",
      "   macro avg       0.84      0.83      0.83     39355\n",
      "weighted avg       0.84      0.83      0.83     39355\n",
      "\n",
      "Confusion Matrix:\n",
      "[[17834  1897]\n",
      " [ 4788 14836]]\n",
      "\n",
      "\n",
      "Accuracy: 0.8301359420658112\n",
      "f1_score: 0.8161289435321946\n"
     ]
    }
   ],
   "source": [
    "print('Classification Report')\n",
    "print(classification_report(y14_test,H_predictions2))\n",
    "print(\"Confusion Matrix:\")\n",
    "print(confusion_matrix(y14_test,H_predictions2))\n",
    "print('\\n')\n",
    "print(\"Accuracy:\",accuracy_score(y14_test,H_predictions2))\n",
    "print(\"f1_score:\",f1_score(y14_test,H_predictions2))"
   ]
  },
  {
   "cell_type": "markdown",
   "metadata": {},
   "source": [
    "# Prediction "
   ]
  },
  {
   "cell_type": "code",
   "execution_count": 130,
   "metadata": {},
   "outputs": [
    {
     "name": "stdout",
     "output_type": "stream",
     "text": [
      " NOT Risky\n"
     ]
    }
   ],
   "source": [
    "# Sample Data\n",
    "sample_input=[[10000.0,4975.0,10.65,162.87,24000.0,27.65,3.0,13648.0,83.7,9.0]]\n",
    "df_test=pd.DataFrame(sample_input, columns=['loan_amnt','funded_amnt_inv',\n",
    "'int_rate','installment','annual_inc','dti','open_acc','revol_bal','revol_util',\n",
    "'total_acc'])\n",
    "predictions_test = voting_soft1.predict(df_test)\n",
    "if predictions_test[0]==1:\n",
    "    print(' NOT Risky')\n",
    "else:\n",
    "    print('Risky')"
   ]
  },
  {
   "cell_type": "markdown",
   "metadata": {},
   "source": [
    "## djkfbvkj,rbfjkh"
   ]
  }
 ],
 "metadata": {
  "kernelspec": {
   "display_name": "Python 3",
   "language": "python",
   "name": "python3"
  },
  "language_info": {
   "codemirror_mode": {
    "name": "ipython",
    "version": 3
   },
   "file_extension": ".py",
   "mimetype": "text/x-python",
   "name": "python",
   "nbconvert_exporter": "python",
   "pygments_lexer": "ipython3",
   "version": "3.8.5"
  }
 },
 "nbformat": 4,
 "nbformat_minor": 2
}
